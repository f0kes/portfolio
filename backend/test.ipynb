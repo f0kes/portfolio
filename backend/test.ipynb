{
 "cells": [
  {
   "cell_type": "code",
   "execution_count": 2,
   "metadata": {},
   "outputs": [
    {
     "name": "stderr",
     "output_type": "stream",
     "text": [
      "/run/host/var/home/f0kes/dev/personal/backend/.venv/lib/python3.11/site-packages/sentence_transformers/cross_encoder/CrossEncoder.py:13: TqdmWarning: IProgress not found. Please update jupyter and ipywidgets. See https://ipywidgets.readthedocs.io/en/stable/user_install.html\n",
      "  from tqdm.autonotebook import tqdm, trange\n",
      "[nltk_data] Downloading package punkt to\n",
      "[nltk_data]     /var/home/f0kes/.distrobox/debian-nvidia/nltk_data...\n",
      "[nltk_data]   Package punkt is already up-to-date!\n",
      "[nltk_data] Downloading package punkt_tab to\n",
      "[nltk_data]     /var/home/f0kes/.distrobox/debian-nvidia/nltk_data...\n",
      "[nltk_data]   Package punkt_tab is already up-to-date!\n",
      "/run/host/var/home/f0kes/dev/personal/backend/.venv/lib/python3.11/site-packages/transformers/tokenization_utils_base.py:1617: FutureWarning: `clean_up_tokenization_spaces` was not set. It will be set to `True` by default. This behavior will be deprecated in transformers v4.45, and will be then set to `False` by default. For more details check this issue: https://github.com/huggingface/transformers/issues/31884\n",
      "  warnings.warn(\n"
     ]
    }
   ],
   "source": [
    "from search import strip_markdown,load_md_files"
   ]
  },
  {
   "cell_type": "code",
   "execution_count": 7,
   "metadata": {},
   "outputs": [
    {
     "data": {
      "text/plain": [
       "<search.EmbeddedDoc at 0x7f2d1579af10>"
      ]
     },
     "execution_count": 7,
     "metadata": {},
     "output_type": "execute_result"
    }
   ],
   "source": [
    "files = load_md_files()\n",
    "files[0]"
   ]
  },
  {
   "cell_type": "code",
   "execution_count": 8,
   "metadata": {},
   "outputs": [
    {
     "name": "stdout",
     "output_type": "stream",
     "text": [
      "8 directional character animations.md\n",
      "10k simulated units.md\n",
      "AI generated game map.md\n",
      "comfyui string nodes.md\n",
      "parsing dota 2  replays.md\n",
      "steam data collection and analyzis.md\n",
      "user flow algo.md\n"
     ]
    }
   ],
   "source": [
    "for f in files:\n",
    "    print(f.name)\n"
   ]
  },
  {
   "cell_type": "code",
   "execution_count": 11,
   "metadata": {},
   "outputs": [
    {
     "data": {
      "text/plain": [
       "'<p>This project showcases my ability to leverage cutting-edge AI tools, 3D modeling techniques, and custom software development to create a robust pipeline for game character animation. By combining various technologies and developing custom solutions, I\\'ve created a workflow that significantly streamlines the process of generating high-quality, multi-directional character animations for games.</p>\\n<p>A technique for generating 8 directional character animations for games using ComfyUI, Stable Diffusion, CRM, AnimateDiff.</p>\\n<ol>\\n<li>Using dreamshaper and t-pose controlnet we generate a base reference![[Pasted image 20240927183908.png]]\\n![[../Pasted image 20240927184013.png]]</li>\\n<li>With IClight, remove all lighting\\n ![[../Pasted image 20240927184025.png]]</li>\\n<li>using controlnet tile we generate 4k version of image</li>\\n<li>with CRM we generate both character from different angles which we will use later, and a 3d model</li>\\n</ol>\\n<p>![[../Pasted image 20240927184332.png]]\\n![[../Pasted image 20240927184348.png]]\\n![[../Pasted image 20240927184355.png]]\\n6. Go to mixamo, autorig, download rigged models and animations, import to blender\\n7. Using <a href=\"ttps://github.com/f0kes/blender_eight_directions\">my plugin</a>, render diffuse and depth animations from 8 directions. ![[../Pasted image 20240927184825.png]] ![[../Pasted image 20240927184832.png]] ![[../Pasted image 20240927184841.png]]\\n8. Go through each animation with animatediff+ipadapter using my script. Use the 4 directions from step 4 for ip adapter, changing it depending on what animation is being rendered. <a href=\"https://github.com/f0kes/anim_renderer\">My script</a> automates this process\\n9. If i\\'d continue this project, i\\'d  generate normal maps for animations using ICLight</p>'"
      ]
     },
     "execution_count": 11,
     "metadata": {},
     "output_type": "execute_result"
    }
   ],
   "source": [
    "files[0].html"
   ]
  }
 ],
 "metadata": {
  "kernelspec": {
   "display_name": ".venv",
   "language": "python",
   "name": "python3"
  },
  "language_info": {
   "codemirror_mode": {
    "name": "ipython",
    "version": 3
   },
   "file_extension": ".py",
   "mimetype": "text/x-python",
   "name": "python",
   "nbconvert_exporter": "python",
   "pygments_lexer": "ipython3",
   "version": "3.11.2"
  }
 },
 "nbformat": 4,
 "nbformat_minor": 2
}
